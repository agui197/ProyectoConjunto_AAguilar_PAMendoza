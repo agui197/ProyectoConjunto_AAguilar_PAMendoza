{
 "cells": [
  {
   "cell_type": "markdown",
   "metadata": {},
   "source": [
    "# Expectativas del Curso de Simulación de Procesos Financieros\n",
    "## Pablo Ángel Mendoza Aguirre\n",
    "\n",
    "\n",
    "#### Aprender a simular mediante herraminetas de python procesos financieros con el fin de modelar y optimizar los mismos y traer soluciones eficientes a problemas reales.\n",
    "\n",
    "#### Mejorar mis habilidades en LaTeX para generar documentos de calidad.\n",
    "\n",
    "*Propiedades de la Integral de Ito*\n",
    "\n",
    "__Proposisción 5.5.1 : Sea $f(t, W_{t})$ y $ g(t,W_{t})$, procesos NO  anticipatorios  $C \\in R$.__\n",
    "    - Aditividad:\n",
    "$$ \\int_{0}^{T} f(t, Wt) + g(t,Wt) dWt =  \\int_{0}^{T} f(t, Wt) dWt +  \\int_{0}^{T}  g(t,Wt) dWt  $$\n",
    "    - Homogeneidad:\n",
    "$$ \\int_{0}^{T} c f(t, Wt) dWt =  c \\int_{0}^{T} f(t, Wt) dWt $$\n",
    "    - Partición:\n",
    "$$ \\int_{0}^{T} f(t, Wt) dWt = \\int_{0}^{u} f(t, Wt) dWt + \\int_{u}^{T} f(t, Wt) dWt $$\n",
    "\n",
    "__Proposisción 5.5.2 :__\n",
    "    - Media: \n",
    "$$E[\\int_{a}^{b} f(t, Wt) dWt]  = 0$$\n",
    "    - Isometría:\n",
    "$$ E[(\\int_{a}^{b} f(t, Wt) dWt)^2]  = E[\\int_{a}^{b}  f(t, Wt)^2 dWt]$$\n",
    "    - Covarianza:\n",
    "$$ E[(\\int_{a}^{b} [f(t, Wt) dWt) (\\int_{a}^{b} g(t,Wt) dWt )]  = E[ \\int_{a}^{b}  f(t, Wt) g(t,Wt) dt] $$\n",
    "\n",
    "#### Aprender a usar Gitkraken de forma eficiente para entender, dimensionar y experimentar con una plataforma gràfica de control de versiones.\n",
    "    \n",
    "| A Favor                         | En Contra                     |\n",
    "| ------------------------------- | ----------------------------- |\n",
    "| Control de Versiones            | Toma tiempo aprender a usarlo |\n",
    "| Interfaz Gráfica                |                               | \n",
    "| Logo Original                   |                               |\n",
    "| Práctico                        |                               |\n",
    "| Sencillo                        |                               | \n",
    "| Esta en la nube.                |                               |\n",
    "    \n",
    "#### Una de mis mayores espectativas del curso es como lo dijo el docente:\n",
    "\n",
    "![Google like a Master](https://i.chzbgr.com/full/7890588416/hEA4D2886/)\n",
    "\n",
    "[enlace a Google](https://www.google.com)\n",
    "\n",
    "> \"En este curso aprenderan a Googlear como unos masters.\"  — Oscar David Jaramillo"
   ]
  },
  {
   "cell_type": "code",
   "execution_count": null,
   "metadata": {},
   "outputs": [],
   "source": []
  }
 ],
 "metadata": {
  "kernelspec": {
   "display_name": "Python 3",
   "language": "python",
   "name": "python3"
  },
  "language_info": {
   "codemirror_mode": {
    "name": "ipython",
    "version": 3
   },
   "file_extension": ".py",
   "mimetype": "text/x-python",
   "name": "python",
   "nbconvert_exporter": "python",
   "pygments_lexer": "ipython3",
   "version": "3.6.5"
  }
 },
 "nbformat": 4,
 "nbformat_minor": 2
}
