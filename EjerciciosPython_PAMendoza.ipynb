{
 "cells": [
  {
   "cell_type": "markdown",
   "metadata": {},
   "source": [
    "## Ejercicios con Python"
   ]
  },
  {
   "cell_type": "markdown",
   "metadata": {},
   "source": [
    "1. Write a Python program to convert a list of numeric value into a one-dimensional NumPy array. Expected Output:\n",
    "Original List: [12.23, 13.32, 100, 36.32]\n",
    "One-dimensional numpy array: [ 12.23 13.32 100. 36.32]"
   ]
  },
  {
   "cell_type": "code",
   "execution_count": 50,
   "metadata": {},
   "outputs": [
    {
     "name": "stdout",
     "output_type": "stream",
     "text": [
      "Lista: [12.23, 13.32, 100, 36.32]\n",
      "Arreglo Numpy unidimensional:  [ 12.23  13.32 100.    36.32]\n"
     ]
    }
   ],
   "source": [
    "import numpy as np\n",
    "lista = [12.23, 13.32, 100, 36.32]\n",
    "print(\"Lista:\",lista)\n",
    "arreglo = np.array(lista)\n",
    "print(\"Arreglo Numpy unidimensional: \",arreglo)"
   ]
  },
  {
   "cell_type": "markdown",
   "metadata": {},
   "source": [
    "2. Write a Python program to create a null vector of size 10 and update sixth value to 11."
   ]
  },
  {
   "cell_type": "code",
   "execution_count": 51,
   "metadata": {},
   "outputs": [
    {
     "name": "stdout",
     "output_type": "stream",
     "text": [
      "Arreglo de ceros:  [0. 0. 0. 0. 0. 0. 0. 0. 0. 0.]\n",
      "Se cambiará el sexto valor por un 11:\n",
      "Arreglo de modificado:  [ 0.  0.  0.  0.  0. 11.  0.  0.  0.  0.]\n"
     ]
    }
   ],
   "source": [
    "import numpy as np\n",
    "zeros = np.zeros(10)\n",
    "print(\"Arreglo de ceros: \",zeros)\n",
    "print(\"Se cambiará el sexto valor por un 11:\")\n",
    "zeros[5] = 11\n",
    "print(\"Arreglo de modificado: \",zeros)"
   ]
  },
  {
   "cell_type": "markdown",
   "metadata": {},
   "source": [
    "3. Write a Python program to create a array with values ranging from 12 to 38."
   ]
  },
  {
   "cell_type": "code",
   "execution_count": 52,
   "metadata": {},
   "outputs": [
    {
     "name": "stdout",
     "output_type": "stream",
     "text": [
      "Arreglo con valores del 12 al 38:  [12 13 14 15 16 17 18 19 20 21 22 23 24 25 26 27 28 29 30 31 32 33 34 35\n",
      " 36 37 38]\n"
     ]
    }
   ],
   "source": [
    "import numpy as np\n",
    "arreglo = np.arange(12, 39, 1)\n",
    "print(\"Arreglo con valores del 12 al 38: \",arreglo)"
   ]
  },
  {
   "cell_type": "markdown",
   "metadata": {},
   "source": [
    "4. Write a Python program to reverse an array (first element becomes last)."
   ]
  },
  {
   "cell_type": "code",
   "execution_count": 53,
   "metadata": {},
   "outputs": [
    {
     "name": "stdout",
     "output_type": "stream",
     "text": [
      "Arreglo Inicial:  [12 13 14 15 16 17 18 19 20 21 22 23 24 25 26 27 28 29 30 31 32 33 34 35\n",
      " 36 37]\n",
      "Arreglo Invertido:  [37 36 35 34 33 32 31 30 29 28 27 26 25 24 23 22 21 20 19 18 17 16 15 14\n",
      " 13 12]\n"
     ]
    }
   ],
   "source": [
    "import numpy as np\n",
    "arreglo = np.arange(12, 38, 1)\n",
    "print(\"Arreglo Inicial: \", arreglo)\n",
    "invertido = arreglo[::-1]\n",
    "print(\"Arreglo Invertido: \", invertido)"
   ]
  },
  {
   "cell_type": "markdown",
   "metadata": {},
   "source": [
    "5. Write a Python program to create a 2d array with 1 on the border and 0 inside.Expected Output: Original array: [[ 1. 1. 1. 1. 1.] [ 1. 1. 1. 1. 1.] [ 1. 1. 1. 1. 1.] [ 1. 1. 1. 1. 1.] [ 1. 1. 1. 1. 1.]] 1 on the border and 0 inside in the array [[ 1. 1. 1. 1. 1.] [ 1. 0. 0. 0. 1.] [ 1. 0. 0. 0. 1.] [ 1. 0. 0. 0. 1.] [ 1. 1. 1. 1. 1.]]"
   ]
  },
  {
   "cell_type": "code",
   "execution_count": 54,
   "metadata": {},
   "outputs": [
    {
     "name": "stdout",
     "output_type": "stream",
     "text": [
      "Arreglo Inicial: \n",
      "[[1. 1. 1. 1. 1.]\n",
      " [1. 1. 1. 1. 1.]\n",
      " [1. 1. 1. 1. 1.]\n",
      " [1. 1. 1. 1. 1.]\n",
      " [1. 1. 1. 1. 1.]]\n",
      "Arreglo modificado: \n",
      "[[1. 1. 1. 1. 1.]\n",
      " [1. 0. 0. 0. 1.]\n",
      " [1. 0. 0. 0. 1.]\n",
      " [1. 0. 0. 0. 1.]\n",
      " [1. 1. 1. 1. 1.]]\n"
     ]
    }
   ],
   "source": [
    "import numpy as np\n",
    "arreglo = np.ones((5,5))\n",
    "print(\"Arreglo Inicial: \")\n",
    "print(arreglo)\n",
    "arreglo[1:-1,1:-1] = 0\n",
    "print(\"Arreglo modificado: \")\n",
    "print(arreglo)\n"
   ]
  },
  {
   "cell_type": "markdown",
   "metadata": {},
   "source": [
    "6. Write a Python program to add a border (filled with 0’s) around an existing array."
   ]
  },
  {
   "cell_type": "code",
   "execution_count": 55,
   "metadata": {},
   "outputs": [
    {
     "name": "stdout",
     "output_type": "stream",
     "text": [
      "Arreglo Inicial: \n",
      "[[1. 1. 1.]\n",
      " [1. 1. 1.]\n",
      " [1. 1. 1.]]\n",
      "Arreglo modificado: \n",
      "[[0. 0. 0. 0. 0.]\n",
      " [0. 1. 1. 1. 0.]\n",
      " [0. 1. 1. 1. 0.]\n",
      " [0. 1. 1. 1. 0.]\n",
      " [0. 0. 0. 0. 0.]]\n"
     ]
    }
   ],
   "source": [
    "import numpy as np\n",
    "arreglo = np.ones((3,3))\n",
    "print(\"Arreglo Inicial: \")\n",
    "print(arreglo)\n",
    "arreglo = np.pad(arreglo, pad_width=1, mode='constant', constant_values=0)\n",
    "print(\"Arreglo modificado: \")\n",
    "print(arreglo)"
   ]
  },
  {
   "cell_type": "markdown",
   "metadata": {},
   "source": [
    "7. Write a Python program to create a 8x8 matrix and fill it with a checkerboard pattern Checkerboard pattern: [[0 1 0 1 0 1 0 1] [1 0 1 0 1 0 1 0] [0 1 0 1 0 1 0 1] [1 0 1 0 1 0 1 0] [0 1 0 1 0 1 0 1] [1 0 1 0 1 0 1 0] [0 1 0 1 0 1 0 1] [1 0 1 0 1 0 1 0]] \n",
    "\n",
    "hint: Explore the use of x[a :: b, :: c] = d, x[:: e, f :: g] = h, where the letters are integer numbers."
   ]
  },
  {
   "cell_type": "code",
   "execution_count": 56,
   "metadata": {},
   "outputs": [
    {
     "name": "stdout",
     "output_type": "stream",
     "text": [
      "Arreglo con patrón de ajedrez:\n",
      "[[0 1 0 1 0 1 0 1]\n",
      " [1 0 1 0 1 0 1 0]\n",
      " [0 1 0 1 0 1 0 1]\n",
      " [1 0 1 0 1 0 1 0]\n",
      " [0 1 0 1 0 1 0 1]\n",
      " [1 0 1 0 1 0 1 0]\n",
      " [0 1 0 1 0 1 0 1]\n",
      " [1 0 1 0 1 0 1 0]]\n"
     ]
    }
   ],
   "source": [
    "import numpy as np\n",
    "arreglo = np.zeros((8,8),dtype=int)\n",
    "arreglo[1::2,::2] = 1\n",
    "arreglo[::2,1::2] = 1\n",
    "print(\"Arreglo con patrón de ajedrez:\")\n",
    "print(arreglo)"
   ]
  },
  {
   "cell_type": "markdown",
   "metadata": {},
   "source": [
    "8. Write a Python program to convert the values of Centigrade degrees into Fahrenheit degrees. Centigrade values are stored into a NumPy array.\n",
    "Sample Array [0, 12, 45.21 ,34, 99.91]\n",
    "Expected Output:\n",
    "Values in Fahrenheit degrees: [0.0 12.0 45.21 34.0 99.91]\n",
    "Values in Centigrade degrees: [-17.77777778 -11.11111111 7.33888889 1.11111111 37.72777778].\n",
    "\n",
    "Use functions and list comprehension read the link https: // www. pythonforbeginners. com/ lists/ list-comprehensions-in-python/ , to additional information about of\n",
    "list comprehension in python."
   ]
  },
  {
   "cell_type": "code",
   "execution_count": 57,
   "metadata": {},
   "outputs": [
    {
     "name": "stdout",
     "output_type": "stream",
     "text": [
      "Valores en grados Farenheit:  [ 0.   12.   45.21 34.   99.91]\n",
      "Valores en centigrados:  [-17.77777778 -11.11111111   7.33888889   1.11111111  37.72777778]\n"
     ]
    }
   ],
   "source": [
    "import numpy as np\n",
    "farenheit = [0, 12.0, 45.21, 34.0, 99.91]\n",
    "arreglo = np.array(farenheit)\n",
    "print(\"Valores en grados Farenheit: \", arreglo)\n",
    "print(\"Valores en centigrados: \", 5*arreglo/9 - 5*32/9) "
   ]
  },
  {
   "cell_type": "markdown",
   "metadata": {},
   "source": [
    "9. Write a Python program to find the set difference of two arrays. The set difference will return the sorted, unique values in array1 that are not in array2. Expected Output: Array1: [ 0 10 20 40 60 80]\n",
    "Array2: [10, 30, 40, 50, 70, 90]\n",
    "Set difference between two arrays: [ 0 20 60 80] \n",
    "\n",
    "Hint:explore the use of function np.setdiff1d."
   ]
  },
  {
   "cell_type": "code",
   "execution_count": 58,
   "metadata": {},
   "outputs": [
    {
     "name": "stdout",
     "output_type": "stream",
     "text": [
      "Arreglo 1:  [0, 10, 20, 40, 60, 80]\n",
      "Arreglo 2:  [10, 30, 40, 50, 70, 90]\n",
      "VAlores únicos del arreglo 1 que no están en el arreglo 2: \n",
      "[ 0 20 60 80]\n"
     ]
    }
   ],
   "source": [
    "import numpy as np\n",
    "arreglo1 = [0, 10, 20, 40, 60, 80]\n",
    "arreglo2 = [10, 30, 40, 50, 70, 90]\n",
    "print(\"Arreglo 1: \", arreglo1)\n",
    "print(\"Arreglo 2: \", arreglo2)\n",
    "print(\"VAlores únicos del arreglo 1 que no están en el arreglo 2: \")\n",
    "print(np.setdiff1d(arreglo1, arreglo2))"
   ]
  },
  {
   "cell_type": "markdown",
   "metadata": {},
   "source": [
    "10. Write a Python program to create a 2-D array whose diagonal equals [4, 5, 6, 8] and 0’s elsewhere."
   ]
  },
  {
   "cell_type": "code",
   "execution_count": 59,
   "metadata": {},
   "outputs": [
    {
     "name": "stdout",
     "output_type": "stream",
     "text": [
      "Arreglo bidimensional de ceros de tamaño 4x4 con diagonal [4,5,6,8]\n",
      "[[4 0 0 0]\n",
      " [0 5 0 0]\n",
      " [0 0 6 0]\n",
      " [0 0 0 8]]\n"
     ]
    }
   ],
   "source": [
    "import numpy as np\n",
    "arreglo =  np.diagflat([4, 5, 6, 8])\n",
    "print(\"Arreglo bidimensional de ceros de tamaño 4x4 con diagonal [4,5,6,8]\")\n",
    "print(arreglo)"
   ]
  },
  {
   "cell_type": "code",
   "execution_count": null,
   "metadata": {},
   "outputs": [],
   "source": []
  }
 ],
 "metadata": {
  "kernelspec": {
   "display_name": "Python 3",
   "language": "python",
   "name": "python3"
  },
  "language_info": {
   "codemirror_mode": {
    "name": "ipython",
    "version": 3
   },
   "file_extension": ".py",
   "mimetype": "text/x-python",
   "name": "python",
   "nbconvert_exporter": "python",
   "pygments_lexer": "ipython3",
   "version": "3.6.5"
  }
 },
 "nbformat": 4,
 "nbformat_minor": 2
}
